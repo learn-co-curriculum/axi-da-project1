{
 "cells": [
  {
   "cell_type": "markdown",
   "id": "defined-comedy",
   "metadata": {},
   "source": [
    "# Phase 1 Project\n",
    "\n",
    "## Introduction\n",
    "\n",
    "Congratulations on completing phase 1! In this notebook, you will complete a final project that applies your python and visualization skills to real word business data. \n",
    "\n",
    "## Objectives \n",
    "In this project, you will...\n",
    "- Read in data that has been stored as a `json` file.\n",
    "- Describe how the data is structured.\n",
    "- Use Python to filter a nested data structure\n",
    "- Define python functions\n",
    "- Calculate descriptive statistics\n",
    "- Visualize data via matplotlib\n",
    "\n",
    "\n",
    "# Task: Compare New York Pizza Restaurants with Above Average and Below Average Ratings\n",
    "![Pizza gif](https://media.giphy.com/media/eK1eFdpj5kMWqZ9bLJ/giphy.gif?cid=ecf05e47rkbp48nwz3za6dloo8xfwzueu0rx2vklguo7xyhu&rid=giphy.gif&ct=g)\n",
    "\n",
    "## Business Understanding \n",
    "\n",
    "A client at your analytics firm is considering opening a pizza restaurant in New York City. \n",
    "\n",
    "They have asked you to develop a business intelligence report to fact check the following claims:\n",
    "1. Your client wants to ensure they have an above average Yelp rating. They have previously owned restuarants in other cities, where a `3` was the average. They would like to know if that holds true in New York City. \n",
    "1. Your client has noticed that restaurants on yelp with a high review count seem to be quite successful. They have decided to focus on maximizing their review count which they believe will allow them to have an above average overall review. \n",
    "1. After looking at a few restaurants on Yelp, your client believes that most above average restaurants have a price point of `$$`. They are considering increasing their prices from `$` to `$$` to match the majority of above average restaurants, and would like you to find the most common price point for above average restaurants in New York City.\n",
    "1. In terms of location they have been told that above average restaurants are usually further east and below average are usually further west, but that the biggest difference is whether the restaurant is on the north or south side. They would like you to determine if the data supports this claim.\n",
    "1. They believe that the `10012` zipcode in New York City is the best place to open a restaurant. They wish to open a restaurant in close proximity to other highly rated restaurants, and they believe `10012` has the most in NYC.\n",
    "\n",
    "\n",
    "\n",
    "The primary purpose of this analysis is _descriptive_, meaning your analysis should report calculated statistics such as `counts` and `mean`, and should be focused on providing a simple, factual, understanding of the data. \n",
    "\n",
    "\n",
    "## Data Understanding\n",
    "\n",
    "You have been provided a Yelp dataset containing information about restaurants in New York City. The data is named `pizza_businesses.json` and is stored in the current working directory. You will need to load in this dataset, inspect how the data is structured, and use the provided information to fact check your client's claims. "
   ]
  },
  {
   "cell_type": "markdown",
   "id": "fundamental-explanation",
   "metadata": {},
   "source": [
    "## Load the data\n",
    "\n",
    "A dataset containing information about New York pizza restaurants is stored in this notebook's repository with the name `pizza_businesses.json`.\n",
    "\n",
    "In the cell below, load the json data into a python dictionary."
   ]
  },
  {
   "cell_type": "code",
   "execution_count": null,
   "id": "finnish-hardwood",
   "metadata": {},
   "outputs": [],
   "source": [
    "# Import the json python package\n",
    "# YOUR CODE HERE\n",
    "\n",
    "# Load in the data\n",
    "# YOUR CODE HERE"
   ]
  },
  {
   "cell_type": "markdown",
   "id": "enormous-operation",
   "metadata": {},
   "source": [
    "## Describe the data\n",
    "\n",
    "Now that you've loaded in the dataset, the structure of the data should be inspected.\n",
    "\n",
    "In the cell below, evaluate \n",
    "- The datatype of the overall dataset\n",
    "- The datatype of a single observation\n",
    "- The number of observations, and then\n",
    "- Isolate the first observation in the dataset"
   ]
  },
  {
   "cell_type": "code",
   "execution_count": null,
   "id": "false-afghanistan",
   "metadata": {},
   "outputs": [],
   "source": [
    "# Replace None with your code!\n",
    "\n",
    "# Find the datatype for the overall dataset\n",
    "dataset_type = None\n",
    "# Isolate the first observation\n",
    "first_observation = None\n",
    "# Find the datatype for the first observation\n",
    "observation_type = None\n",
    "# How many observations are there\n",
    "num_observations = None"
   ]
  },
  {
   "cell_type": "markdown",
   "id": "canadian-wheel",
   "metadata": {},
   "source": [
    "Run this following cell unchanged to print out descriptive information for the dataset!"
   ]
  },
  {
   "cell_type": "code",
   "execution_count": null,
   "id": "surprised-keyboard",
   "metadata": {},
   "outputs": [],
   "source": [
    "from pprint import pprint\n",
    "\n",
    "print(f'The dataset is a \\033[1m{dataset_type}\\033[0m')\n",
    "print(f'The observations are a \\033[1m{observation_type}\\033[0m',)\n",
    "print(f'There are \\033[1m{num_observations} observations.\\033[0m')\n",
    "print('\\033[1m\\nThe first observation:\\033[0m')\n",
    "print('==========================================')\n",
    "pprint(first_observation)\n",
    "print('==========================================')"
   ]
  },
  {
   "cell_type": "markdown",
   "id": "atlantic-application",
   "metadata": {},
   "source": [
    "## Find the possible rating options. \n",
    "\n",
    "In the cell below, create a variable called `rating_options` that has a [set datatype](https://realpython.com/python-sets/), and is a unique collection of the possible ratings a restaurant can recieve."
   ]
  },
  {
   "cell_type": "code",
   "execution_count": null,
   "id": "broke-array",
   "metadata": {},
   "outputs": [],
   "source": [
    "# Create the `rating_options` variable\n",
    "rating_options = None\n",
    "\n",
    "# Loop over all of the observations in the dataset\n",
    "\n",
    "\n",
    "    # Isolate the rating for the restaurant\n",
    "    # YOUR CODE HERE\n",
    "    \n",
    "    # Add the rating to \n",
    "    # the `rating_options` variable\n",
    "    # YOUR CODE HERE\n",
    "    \n",
    "rating_options"
   ]
  },
  {
   "cell_type": "markdown",
   "id": "aquatic-fourth",
   "metadata": {},
   "source": [
    "Run the next cell unchanged to test your work!\n",
    "> If the below cell runs without throwing an error, your code is likely correct!"
   ]
  },
  {
   "cell_type": "code",
   "execution_count": null,
   "id": "czech-spring",
   "metadata": {},
   "outputs": [],
   "source": [
    "assert type(rating_options) == set\n",
    "assert len(rating_options) == 8\n",
    "assert list(rating_options)[0] != list(rating_options)[1]"
   ]
  },
  {
   "cell_type": "markdown",
   "id": "charitable-oracle",
   "metadata": {},
   "source": [
    "## Plot the distribution for ratings\n",
    "\n",
    "Now that you know what rating options are available, in the cell below plot a histogram showing the distribution of ratings. "
   ]
  },
  {
   "cell_type": "code",
   "execution_count": null,
   "id": "electric-grocery",
   "metadata": {},
   "outputs": [],
   "source": [
    "# Import matplotlib's pyplot module\n",
    "\n",
    "# Create an empty list.\n",
    "# We will store all ratings in this list\n",
    "ratings = None\n",
    "\n",
    "# Loop over every restaurant in the dataset\n",
    "# YOUR CODE HERE\n",
    "\n",
    "    # Isolate the rating\n",
    "    # YOUR CODE HERE\n",
    "    # Append the rating to the `ratings` list\n",
    "    # YOUR CODE HERE\n",
    "\n",
    "# Create a matplotlib subplot\n",
    "# YOUR CODE HERE\n",
    "\n",
    "# Plot a histogram of the ratings list\n",
    "# YOUR CODE HERE"
   ]
  },
  {
   "cell_type": "markdown",
   "id": "digital-marshall",
   "metadata": {},
   "source": [
    "**Interpret the ratings histogram. How does the visualization relate to your client's claims?**"
   ]
  },
  {
   "cell_type": "markdown",
   "id": "adjusted-sterling",
   "metadata": {},
   "source": [
    "YOUR ANSWER HERE"
   ]
  },
  {
   "cell_type": "markdown",
   "id": "martial-receiver",
   "metadata": {},
   "source": [
    "## Isolate the restaurants with an above average rating\n",
    "\n",
    "Now that you have an understanding for what is an average rating, next you will isolate restaurants with above average and below average ratings so you can compare them.\n",
    "\n",
    "In the cell below, filter out all restaurants that do not have a rating of at least `4.5`."
   ]
  },
  {
   "cell_type": "code",
   "execution_count": null,
   "id": "possible-arrest",
   "metadata": {},
   "outputs": [],
   "source": [
    "# Create an empty list\n",
    "# You will store restaurants in this list\n",
    "above_average = None\n",
    "\n",
    "# Loop over the dataset\n",
    "# YOUR CODE HERE\n",
    "\n",
    "    # Isolate the rating\n",
    "    # YOUR CODE HERE\n",
    "    \n",
    "    # Check if the rating is at least 4.5\n",
    "    # YOUR CODE HERE\n",
    "        # If the rating is at least 4.5\n",
    "        # Add the restaurant to the list\n",
    "        # YOUR CODE HERE"
   ]
  },
  {
   "cell_type": "markdown",
   "id": "compressed-timeline",
   "metadata": {},
   "source": [
    "Run the next cell unchanged to test your work!\n",
    "> If the below cell runs without throwing an error, your code is likely correct!"
   ]
  },
  {
   "cell_type": "code",
   "execution_count": null,
   "id": "falling-argentina",
   "metadata": {},
   "outputs": [],
   "source": [
    "assert type(above_average) == list\n",
    "assert type(above_average[0]) == dict\n",
    "assert len(above_average) == 306"
   ]
  },
  {
   "cell_type": "markdown",
   "id": "elder-petersburg",
   "metadata": {},
   "source": [
    "## Isolate restaurants with a below average rating\n",
    "\n",
    "Now repeat the process for below average ratings.\n",
    "\n",
    "In the cell below, isolate restaurants that have a rating of no more than `3.5`."
   ]
  },
  {
   "cell_type": "code",
   "execution_count": null,
   "id": "intense-deviation",
   "metadata": {},
   "outputs": [],
   "source": [
    "# Create an empty list\n",
    "# You will store restaurants in this list\n",
    "below_average = None\n",
    "\n",
    "# Loop over the restaurants in the dataset\n",
    "# YOUR CODE HERE\n",
    "\n",
    "    # Isolate the rating\n",
    "    # YOUR CODE HERE\n",
    "    \n",
    "    # Check if the rating is no more than 3.5\n",
    "    # YOUR CODE HERE\n",
    "    \n",
    "        # If the rating no more than 3.5\n",
    "        # Add the restaurant to the list\n",
    "        # YOUR CODE HERE"
   ]
  },
  {
   "cell_type": "markdown",
   "id": "congressional-airline",
   "metadata": {},
   "source": [
    "Run the next cell unchanged to test your work!\n",
    "> If the below cell runs without throwing an error, your code is likely correct!"
   ]
  },
  {
   "cell_type": "code",
   "execution_count": null,
   "id": "engaged-resident",
   "metadata": {},
   "outputs": [],
   "source": [
    "assert type(below_average) == list\n",
    "assert type(below_average[0]) == dict\n",
    "assert len(below_average) == 247"
   ]
  },
  {
   "cell_type": "markdown",
   "id": "competitive-roommate",
   "metadata": {},
   "source": [
    "## Calculate average review counts for both groups\n",
    "\n",
    "Now that you've isolated above average and below average restaurants, you can calculate the average number of reviews received by both groups.\n",
    "\n",
    "To do this, you will need to isolate the review counts for both groups, and calculate their average. \n",
    "\n",
    "The code for isolating the review counts will look very similar to code you have previously written, which is a good sign that a function should be defined!\n",
    "\n",
    "In the cell below, define a function called `isolate_values` that receives two arguments:\n",
    "1. A list of dictionaries\n",
    "2. A string indicating the key that should be isolated for each dictionary\n",
    "\n",
    "This function should:\n",
    "- Loop over every dictionary in the inputted list\n",
    "- Pull out the value assigned to the inputted key\n",
    "- Append the value to a new list\n",
    "- Return the new list of values"
   ]
  },
  {
   "cell_type": "code",
   "execution_count": null,
   "id": "efficient-kingdom",
   "metadata": {},
   "outputs": [],
   "source": [
    "def isolate_values(dictionaries, key):\n",
    "    # Create an empty list\n",
    "    # for storing data\n",
    "    # YOUR CODE HERE\n",
    "    \n",
    "    # Loop over every dicionary \n",
    "    # YOUR CODE HERE\n",
    "        \n",
    "        # Isolate the value of the dictionary with the `key`\n",
    "        # YOUR CODE HERE\n",
    "        \n",
    "        # Append the value to the list\n",
    "        # YOUR CODE HERE\n",
    "    \n",
    "    # Return the list of values\n",
    "    # YOUR CODE HERE"
   ]
  },
  {
   "cell_type": "markdown",
   "id": "extended-portal",
   "metadata": {},
   "source": [
    "Run the next cell unchanged to test your work!\n",
    "> If the below cell runs without throwing an error, your code is likely correct!"
   ]
  },
  {
   "cell_type": "code",
   "execution_count": null,
   "id": "yellow-phoenix",
   "metadata": {},
   "outputs": [],
   "source": [
    "from types import FunctionType\n",
    "\n",
    "assert type(isolate_values) == FunctionType\n",
    "assert type(isolate_values([{'test': 1}], 'test')) == list\n",
    "assert len(isolate_values([{'test': 1}], 'test')) == 1\n",
    "assert len(isolate_values(above_average, 'name')) == len(above_average)\n",
    "assert isolate_values(above_average, 'name')[-1] == above_average[-1]['name']"
   ]
  },
  {
   "cell_type": "markdown",
   "id": "outer-assembly",
   "metadata": {},
   "source": [
    "Now use the `isolate_values` function to create a list called `abv_avg_rev_cnts` that contains the review counts for every above average restaurant."
   ]
  },
  {
   "cell_type": "code",
   "execution_count": null,
   "id": "useful-halloween",
   "metadata": {},
   "outputs": [],
   "source": [
    "# Replace None with your code\n",
    "abv_avg_rev_cnts = None"
   ]
  },
  {
   "cell_type": "markdown",
   "id": "severe-amateur",
   "metadata": {},
   "source": [
    "Now use the `isolate_values` function to create a list called `blw_avg_rev_cnts` that contains the review counts for every below average restaurant."
   ]
  },
  {
   "cell_type": "code",
   "execution_count": null,
   "id": "herbal-interim",
   "metadata": {},
   "outputs": [],
   "source": [
    "# Replace None with your code\n",
    "blw_avg_rev_cnts = None"
   ]
  },
  {
   "cell_type": "markdown",
   "id": "executive-hormone",
   "metadata": {},
   "source": [
    "Run the next cell unchanged to test your work!\n",
    "> If the below cell runs without throwing an error, your code is likely correct!"
   ]
  },
  {
   "cell_type": "code",
   "execution_count": null,
   "id": "utility-pharmacy",
   "metadata": {},
   "outputs": [],
   "source": [
    "assert type(abv_avg_rev_cnts) == list\n",
    "assert type(abv_avg_rev_cnts[0]) == int\n",
    "assert type(blw_avg_rev_cnts) == list\n",
    "assert type(blw_avg_rev_cnts[0]) == int\n",
    "assert len(abv_avg_rev_cnts) == len(above_average)\n",
    "assert len(blw_avg_rev_cnts) == len(below_average)\n",
    "assert abv_avg_rev_cnts[101] == above_average[101]['review_count']\n",
    "assert blw_avg_rev_cnts[101] == below_average[101]['review_count']"
   ]
  },
  {
   "cell_type": "markdown",
   "id": "verbal-pressing",
   "metadata": {},
   "source": [
    "Now that you've isolated the review counts for both groups, you can calculate the average review count!\n",
    "\n",
    "But before you do that, you should inspect the distribution of review counts to make sure `mean` is an appropriate measure of centrality.\n",
    "\n",
    "In the cell below, we plot a histogram for above average and below average restaurant review counts."
   ]
  },
  {
   "cell_type": "code",
   "execution_count": null,
   "id": "wooden-viking",
   "metadata": {},
   "outputs": [],
   "source": [
    "# Initialize a matplotlib subplot\n",
    "# with 1 row and 2 columns\n",
    "fig, ax = plt.subplots(1,2, figsize=(15,6))\n",
    "\n",
    "# Plot a histogram of below average review counts\n",
    "# on the first axis\n",
    "ax[0].hist(blw_avg_rev_cnts)\n",
    "\n",
    "# Set the title for the first axis\n",
    "# to \"Below Average - Review Counts\"\n",
    "ax[0].set_title(\"Below Average - Review Counts\")\n",
    "\n",
    "# Plot a histogram of above average review counts\n",
    "# on the first axis\n",
    "ax[1].hist(abv_avg_rev_cnts)\n",
    "\n",
    "# Set the title for the first axis\n",
    "# to \"Above Average - Review Counts\"\n",
    "ax[1].set_title(\"Above Average - Review Counts\");"
   ]
  },
  {
   "cell_type": "markdown",
   "id": "regulation-radius",
   "metadata": {},
   "source": [
    "**Interpret the above visualizations. What statistic is best suited for these data?**"
   ]
  },
  {
   "cell_type": "markdown",
   "id": "atmospheric-trauma",
   "metadata": {},
   "source": [
    "YOUR ANSWER HERE"
   ]
  },
  {
   "cell_type": "markdown",
   "id": "continuous-mills",
   "metadata": {},
   "source": [
    "In the cell below, calculate the average review count for above average and below average restaurants."
   ]
  },
  {
   "cell_type": "code",
   "execution_count": null,
   "id": "terminal-morrison",
   "metadata": {},
   "outputs": [],
   "source": [
    "# Import numpy\n",
    "# YOUR CODE HERE\n",
    "\n",
    "# Replace None with your code\n",
    "abv_avg_rev_cnt_center = None\n",
    "blw_avg_rev_cnt_center = None\n",
    "\n",
    "print('Above average review count:', abv_avg_rev_cnt_center)\n",
    "print('Below average review count:', blw_avg_rev_cnt_center)"
   ]
  },
  {
   "cell_type": "markdown",
   "id": "sitting-associate",
   "metadata": {},
   "source": [
    "**Interpret the average review count for both groups. How does this relate to your client's claims?**"
   ]
  },
  {
   "cell_type": "markdown",
   "id": "stunning-setup",
   "metadata": {},
   "source": [
    "YOUR ANSWER HERE"
   ]
  },
  {
   "cell_type": "markdown",
   "id": "fallen-dress",
   "metadata": {},
   "source": [
    "## Count the price option frequency\n",
    "\n",
    "The `price` variable in the dataset is a string of dollar signs indicating how expensive a restaurant's price point is. \n",
    "\n",
    "In the cell below, write a for loop that counts how frequently a given price point appears for the `above_average` dataset"
   ]
  },
  {
   "cell_type": "code",
   "execution_count": null,
   "id": "verbal-peripheral",
   "metadata": {},
   "outputs": [],
   "source": [
    "# Create an empty dictionary to store the\n",
    "# counts for each price point\n",
    "abv_avg_prices = {}\n",
    "\n",
    "# Loop over the above average restaurants\n",
    "# YOUR CODE HERE\n",
    "\n",
    "    # Isolate the price point for the restuarant\n",
    "    # YOUR CODE HERE\n",
    "    \n",
    "    # Check if the price has been added to the dictionary\n",
    "    # YOUR CODE HERE\n",
    "    \n",
    "            # If the price is already a key in the dictionary\n",
    "            # Add one to the count for that price point\n",
    "            # YOUR CODE HERE\n",
    "            \n",
    "    # If the price has not been added to the dictionary\n",
    "    # Else set the price as the key and the value as the integer `1`\n",
    "    # YOUR CODE HERE"
   ]
  },
  {
   "cell_type": "markdown",
   "id": "italic-theology",
   "metadata": {},
   "source": [
    "Run the next cell unchanged to test your work!\n",
    "> If the below cell runs without throwing an error, your code is likely correct!"
   ]
  },
  {
   "cell_type": "code",
   "execution_count": null,
   "id": "romantic-password",
   "metadata": {},
   "outputs": [],
   "source": [
    "assert type(abv_avg_prices) == dict\n",
    "assert len(abv_avg_prices) == 5\n",
    "assert '\\\\$\\\\$\\\\$\\\\$' in abv_avg_prices"
   ]
  },
  {
   "cell_type": "markdown",
   "id": "governing-resistance",
   "metadata": {},
   "source": [
    "**Now reapply the same process, but instead calculate the price point frequencies for the `below_average` dataset.**"
   ]
  },
  {
   "cell_type": "code",
   "execution_count": null,
   "id": "banner-reward",
   "metadata": {},
   "outputs": [],
   "source": [
    "# Create an empty dictionary to store the\n",
    "# counts for each price point\n",
    "# YOUR CODE HERE\n",
    "\n",
    "# Loop over the below average restaurants\n",
    "# YOUR CODE HERE\n",
    "\n",
    "    # Isolate the price point for the restuarant\n",
    "    # YOUR CODE HERE\n",
    "    \n",
    "    # Check if the price has been added to the dictionary\n",
    "    # YOUR CODE HERE\n",
    "    \n",
    "            # If the price is already a key in the dictionary\n",
    "            # Add one to the count for that price point\n",
    "            # YOUR CODE HERE\n",
    "            \n",
    "    # If the price has not been added to the dictionary\n",
    "    # Set the price as the key and the value as the integer `1`\n",
    "    # YOUR CODE HERE"
   ]
  },
  {
   "cell_type": "markdown",
   "id": "minimal-accused",
   "metadata": {},
   "source": [
    "Run the next cell unchanged to test your work!\n",
    "> If the below cell runs without throwing an error, your code is likely correct!"
   ]
  },
  {
   "cell_type": "code",
   "execution_count": null,
   "id": "filled-absolute",
   "metadata": {},
   "outputs": [],
   "source": [
    "assert type(blw_avg_prices) == dict\n",
    "assert len(blw_avg_prices) == 4\n",
    "assert '\\\\$' in blw_avg_prices"
   ]
  },
  {
   "cell_type": "markdown",
   "id": "departmental-attitude",
   "metadata": {},
   "source": [
    "## Create a bar plot that sets the frequency of each price point as the y axis"
   ]
  },
  {
   "cell_type": "code",
   "execution_count": null,
   "id": "seeing-extension",
   "metadata": {},
   "outputs": [],
   "source": [
    "# Create a matplotlib subplot with 1 row and 2 columns\n",
    "# YOUR CODE HERE\n",
    "\n",
    "# Isolate keys of the below average price count dictionary\n",
    "# This will be the x-axis\n",
    "# YOUR CODE HERE\n",
    "\n",
    "# Isolate the values of the below average price count dictionary\n",
    "# This will be the y-axis\n",
    "# YOUR CODE HERE\n",
    "\n",
    "# Plot the below average price point counts as a bar plot\n",
    "# on the first axis\n",
    "# YOUR CODE HERE\n",
    "\n",
    "# Set the title for the first axis\n",
    "# to the string \"Below Average\"\n",
    "# YOUR CODE HERE\n",
    "\n",
    "# Isolate keys of the above average price count dictionary\n",
    "# This will be the x-axis\n",
    "# YOUR CODE HERE\n",
    "\n",
    "# Isolate the values of the above average price count dictionary\n",
    "# This will be the y-axis\n",
    "# YOUR CODE HERE\n",
    "\n",
    "# Plot the above average price counts as a bar plot\n",
    "# on the second axis\n",
    "# YOUR CODE HERE\n",
    "\n",
    "# Set the title for the second axis to \n",
    "# the string 'Above Average'\n",
    "# YOUR CODE HERE"
   ]
  },
  {
   "cell_type": "markdown",
   "id": "descending-attribute",
   "metadata": {},
   "source": [
    "**Interpret the above visualization. How does it relate to your client's claims?**"
   ]
  },
  {
   "cell_type": "markdown",
   "id": "moderate-thong",
   "metadata": {},
   "source": [
    "YOUR ANSWER HERE"
   ]
  },
  {
   "cell_type": "markdown",
   "id": "occupied-westminster",
   "metadata": {},
   "source": [
    "## Analyze restaurant location\n",
    "\n",
    "In the cell below, use the `isolate_values` function to isolate `longitude` and `latitude` for above and below average restaurants."
   ]
  },
  {
   "cell_type": "code",
   "execution_count": null,
   "id": "maritime-comparative",
   "metadata": {},
   "outputs": [],
   "source": [
    "# Replace None with your code\n",
    "\n",
    "# Isolate longitude for above average restaurants\n",
    "abv_avg_lon = None\n",
    "\n",
    "# Isolate latitude for above average restaurants\n",
    "abv_avg_lat = None\n",
    "\n",
    "# Isolate longitude for below average restaurants\n",
    "blw_avg_lon = None\n",
    "\n",
    "# Isolate latitude for below average restaurants\n",
    "blw_avg_lat = None\n",
    "\n",
    "plt.figure(figsize=(15,6))\n",
    "plt.scatter(abv_avg_lon, abv_avg_lat, label='Above')\n",
    "plt.scatter(blw_avg_lon, blw_avg_lat, label='Below')\n",
    "plt.legend();"
   ]
  },
  {
   "cell_type": "markdown",
   "id": "intensive-palestine",
   "metadata": {},
   "source": [
    "## Remove the outlier\n",
    "\n",
    "There is one restaurant in the above average dataset with a location dramatically west and south of all other observations. Let's remove that restaurant from the above average dataset and regenerate the scatter plot."
   ]
  },
  {
   "cell_type": "code",
   "execution_count": null,
   "id": "rocky-wrong",
   "metadata": {},
   "outputs": [],
   "source": [
    "# Create an empty list\n",
    "# that will contain data with\n",
    "# the outlier removed\n",
    "no_outliers = # YOUR CODE HERE\n",
    "\n",
    "# Create an empty list to append the outlier\n",
    "outlier = # YOUR CODE HERE\n",
    "\n",
    "# Loop over every restaurant in the above average dataset\n",
    "# YOUR CODE HERE\n",
    "    \n",
    "    # Isolate the restaurant's longitude\n",
    "    # YOUR CODE HERE\n",
    "    \n",
    "    # Check if the longitude value is greater than the integer -90\n",
    "    # YOUR CODE HERE\n",
    "        \n",
    "        # Append the restaurant to the no_outliers list\n",
    "        # YOUR CODE HERE\n",
    "        \n",
    "    # If longitude is less than -90 it is an outlier\n",
    "    # and should be appended to the outlier list\n",
    "    # YOUR CODE HERE"
   ]
  },
  {
   "cell_type": "markdown",
   "id": "material-psychology",
   "metadata": {},
   "source": [
    "Run the next cell unchanged to test your work!\n",
    "> If the below cell runs without throwing an error, your code is likely correct!"
   ]
  },
  {
   "cell_type": "code",
   "execution_count": null,
   "id": "crude-medicine",
   "metadata": {},
   "outputs": [],
   "source": [
    "assert type(no_outliers) == list\n",
    "assert type(outlier) == list\n",
    "assert len(no_outliers) == len(above_average) - 1\n",
    "assert len(outlier) == 1"
   ]
  },
  {
   "cell_type": "markdown",
   "id": "colored-retreat",
   "metadata": {},
   "source": [
    "Now regenerate the longitude and latitude for above average restaurants using the `no_outliers` dataset, and regenerate the scatter plot!"
   ]
  },
  {
   "cell_type": "code",
   "execution_count": null,
   "id": "black-tunnel",
   "metadata": {},
   "outputs": [],
   "source": [
    "abv_avg_lon = None\n",
    "abv_avg_lat = None\n",
    "\n",
    "plt.figure(figsize=(15,6))\n",
    "plt.scatter(abv_avg_lon, abv_avg_lat, label='Above')\n",
    "plt.scatter(blw_avg_lon, blw_avg_lat, label='Below')\n",
    "plt.legend();"
   ]
  },
  {
   "cell_type": "markdown",
   "id": "assured-darkness",
   "metadata": {},
   "source": [
    "Nice. This is much more interesting. "
   ]
  },
  {
   "cell_type": "markdown",
   "id": "everyday-president",
   "metadata": {},
   "source": [
    "## Plot the distribution of latitude and longitude\n",
    "\n",
    "To get a better sense about how latitude and longitude are working, in the cell below plot histograms for latitude and longitude."
   ]
  },
  {
   "cell_type": "code",
   "execution_count": null,
   "id": "empirical-contract",
   "metadata": {},
   "outputs": [],
   "source": [
    "# Create a matplotlib subplot with 1 row and 2 columns\n",
    "# YOUR CODE HERE\n",
    "\n",
    "# Plot a histogram of above average longitude\n",
    "# on the first subplot axis. Set alpha to .6\n",
    "# Set label to the string \"Above\"\n",
    "# YOUR CODE HERE\n",
    "\n",
    "# Plot a histogram of below average longitude\n",
    "# on the first subplot axis. Set alpha to .6\n",
    "# Set label to the string \"Below\"\n",
    "# YOUR CODE HERE\n",
    "\n",
    "# Set the title for the first subplot axis\n",
    "# to the string \"Longitude\"\n",
    "# YOUR CODE HERE\n",
    "\n",
    "# Plot a histogram of above average latitude\n",
    "# on the second subplot axis. Set alpha to .6\n",
    "# Set label to the string \"Above\"\n",
    "# YOUR CODE HERE\n",
    "\n",
    "# Plot a histogram of below average latitude\n",
    "# on the second subplot axis. Set alpha to .6\n",
    "# Set label to the string \"Below\"\n",
    "# YOUR CODE HERE\n",
    "\n",
    "# Set the title for the second subplot axis\n",
    "# to the string \"Latitude\"\n",
    "# YOUR CODE HERE"
   ]
  },
  {
   "cell_type": "markdown",
   "id": "durable-royalty",
   "metadata": {},
   "source": [
    "**Interpret the above visualization. How does it relate to your client's claims?**"
   ]
  },
  {
   "cell_type": "markdown",
   "id": "optimum-american",
   "metadata": {},
   "source": [
    "YOUR ANSWER HERE"
   ]
  },
  {
   "cell_type": "markdown",
   "id": "extra-lithuania",
   "metadata": {},
   "source": [
    "## Find the most common zipcode for above average restaurants\n",
    "\n",
    "In the cell below, loop over the restaurants in the above average dataset and count the frequency of the restaurants zipcode."
   ]
  },
  {
   "cell_type": "code",
   "execution_count": null,
   "id": "afraid-appendix",
   "metadata": {},
   "outputs": [],
   "source": [
    "# Create an empty dictionary\n",
    "# This dictionary will hold the counts\n",
    "# for each zipcode\n",
    "abv_avg_zip_cnts = # YOUR CODE HERE\n",
    "\n",
    "# Loop over the above average dataset\n",
    "# YOUR CODE HERE\n",
    "    \n",
    "    # Isolate the restaurant's zipcode \n",
    "    # YOUR CODE HERE\n",
    "    \n",
    "    # Check if the zipcode is a key in the dictionary\n",
    "    # YOUR CODE HERE\n",
    "        \n",
    "        # Add one to the zipcode's value\n",
    "        # YOUR CODE HERE\n",
    "    \n",
    "    # If the zipcode is not a key\n",
    "    # add it to the dictionary with a value of 1\n",
    "    # YOUR CODE HERE"
   ]
  },
  {
   "cell_type": "markdown",
   "id": "comfortable-clear",
   "metadata": {},
   "source": [
    "Run the next cell unchanged to test your work!\n",
    "> If the below cell runs without throwing an error, your code is likely correct!"
   ]
  },
  {
   "cell_type": "code",
   "execution_count": null,
   "id": "subtle-outside",
   "metadata": {},
   "outputs": [],
   "source": [
    "assert type(abv_avg_zip_cnts) == dict\n",
    "assert len(abv_avg_zip_cnts) == 104 or len(abv_avg_zip_cnts) == 103\n",
    "assert '10012' in abv_avg_zip_cnts"
   ]
  },
  {
   "cell_type": "markdown",
   "id": "comparative-ribbon",
   "metadata": {},
   "source": [
    "Now loop over the `abv_avg_zip_cnts` dictionary and find the zipcode with the largest count. \n",
    "\n",
    "For this question, there are multiple ways to find the solution. Comments have not been provided."
   ]
  },
  {
   "cell_type": "code",
   "execution_count": null,
   "id": "early-vertex",
   "metadata": {},
   "outputs": [],
   "source": [
    "# Your code here"
   ]
  },
  {
   "cell_type": "markdown",
   "id": "careful-vegetarian",
   "metadata": {},
   "source": [
    "**Interpret the results. How does the most frequent zipcode relate to your client's claims?**"
   ]
  },
  {
   "cell_type": "markdown",
   "id": "auburn-division",
   "metadata": {},
   "source": [
    "YOUR ANSWER HERE"
   ]
  },
  {
   "cell_type": "markdown",
   "id": "brave-venture",
   "metadata": {},
   "source": [
    "## Compile your findings into a report\n",
    "\n",
    "You have address all of your client's claims! In the cell below, describe the findings of your analysis."
   ]
  },
  {
   "cell_type": "markdown",
   "id": "effective-disclaimer",
   "metadata": {},
   "source": [
    "YOUR ANSWER HERE"
   ]
  },
  {
   "cell_type": "markdown",
   "id": "neural-aurora",
   "metadata": {},
   "source": [
    "# Summary\n",
    "\n",
    "Well done! As you can see, manipulating nested data stuctures can be a challenging task. Pulling information from json objects requires a thoughtful inspection of how the data is organized, and code that allows you to avoid repetition."
   ]
  }
 ],
 "metadata": {
  "kernelspec": {
   "display_name": "Python 3",
   "language": "python",
   "name": "python3"
  },
  "language_info": {
   "codemirror_mode": {
    "name": "ipython",
    "version": 3
   },
   "file_extension": ".py",
   "mimetype": "text/x-python",
   "name": "python",
   "nbconvert_exporter": "python",
   "pygments_lexer": "ipython3",
   "version": "3.7.7"
  }
 },
 "nbformat": 4,
 "nbformat_minor": 5
}
