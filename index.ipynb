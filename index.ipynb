{
 "cells": [
  {
   "cell_type": "markdown",
   "id": "defined-comedy",
   "metadata": {},
   "source": [
    "# Phase 1 Project\n",
    "\n",
    "## Introduction\n",
    "\n",
    "Congratulations on completing phase 1! In this notebook, you will complete a final project that applies your python and visualization skills to real word business data. \n",
    "\n",
    "## Objectives \n",
    "In this project, you will...\n",
    "- Read in data that has been stored as a `json` file.\n",
    "- Describe how the data is structured.\n",
    "- Use Python to filter a nested data structure\n",
    "- Define python functions\n",
    "- Calculate descriptive statistics\n",
    "- Visualize data via matplotlib\n",
    "\n",
    "\n",
    "# Task: Compare New York Pizza Restaurants with Above Average and Below Average Ratings\n",
    "![Pizza gif](https://media.giphy.com/media/eK1eFdpj5kMWqZ9bLJ/giphy.gif?cid=ecf05e47rkbp48nwz3za6dloo8xfwzueu0rx2vklguo7xyhu&rid=giphy.gif&ct=g)\n",
    "\n",
    "## Business Understanding \n",
    "\n",
    "A client at your analytics firm is considering opening a pizza restaurant in New York City. \n",
    "\n",
    "They have asked you to develop a business intelligence report to fact check the following claims:\n",
    "1. Your client wants to ensure they have an above average Yelp rating. They have previously owned restuarants in other cities, where a `3` was the average. They would like to know if that holds true in New York City. \n",
    "1. Your client has noticed that restaurants on yelp with a high review count seem to be quite successful. They have decided to focus on maximizing their review count which they believe will allow them to have an above average overall review. \n",
    "1. After looking at a few restaurants on Yelp, your client believes that most above average restaurants have a price point of `$$`. They are considering increasing their prices from `$` to `$$` to match the majority of above average restaurants, and would like you to find the most common price point for above average restaurants in New York City.\n",
    "1. In terms of location they have been told that above average restaurants are usually further east and below average are usually further west, but that the biggest difference is whether the restaurant is on the north or south side. They would like you to determine if the data supports this claim.\n",
    "1. They believe that the `10012` zipcode in New York City is the best place to open a restaurant. They wish to open a restaurant in close proximity to other highly rated restaurants, and they believe `10012` has the most in NYC.\n",
    "\n",
    "\n",
    "\n",
    "The primary purpose of this analysis is _descriptive_, meaning your analysis should report calculated statistics such as `counts` and `mean`, and should be focused on providing a simple, factual, understanding of the data. \n",
    "\n",
    "\n",
    "## Data Understanding\n",
    "\n",
    "You have been provided a Yelp dataset containing information about restaurants in New York City. The data is named `pizza_businesses.json` and is stored in the current working directory. You will need to load in this dataset, inspect how the data is structured, and use the provided information to fact check your client's claims. "
   ]
  },
  {
   "cell_type": "markdown",
   "id": "fundamental-explanation",
   "metadata": {},
   "source": [
    "## Load the data\n",
    "\n",
    "A dataset containing information about New York pizza restaurants is stored in this notebook's repository with the name `pizza_businesses.json`.\n",
    "\n",
    "In the cell below, load the json data into a python dictionary."
   ]
  },
  {
   "cell_type": "code",
   "execution_count": 1,
   "id": "finnish-hardwood",
   "metadata": {},
   "outputs": [],
   "source": [
    "# Import the json python package\n",
    "# YOUR CODE HERE\n",
    "\n",
    "# Load in the data\n",
    "# YOUR CODE HERE"
   ]
  },
  {
   "cell_type": "code",
   "execution_count": 2,
   "id": "russian-petite",
   "metadata": {},
   "outputs": [],
   "source": [
    "#__SOLUTION__\n",
    "# Import the json python package\n",
    "import json\n",
    "\n",
    "# Load in the data\n",
    "file = open('pizza_businesses.json', 'r')\n",
    "restaurants = json.load(file)\n",
    "file.close()"
   ]
  },
  {
   "cell_type": "markdown",
   "id": "enormous-operation",
   "metadata": {},
   "source": [
    "## Describe the data\n",
    "\n",
    "Now that you've loaded in the dataset, the structure of the data should be inspected.\n",
    "\n",
    "In the cell below, evaluate \n",
    "- The datatype of the overall dataset\n",
    "- The datatype of a single observation\n",
    "- The number of observations, and then\n",
    "- Isolate the first observation in the dataset"
   ]
  },
  {
   "cell_type": "code",
   "execution_count": 3,
   "id": "false-afghanistan",
   "metadata": {},
   "outputs": [],
   "source": [
    "# Replace None with your code!\n",
    "\n",
    "# Find the datatype for the overall dataset\n",
    "dataset_type = None\n",
    "# Isolate the first observation\n",
    "first_observation = None\n",
    "# Find the datatype for the first observation\n",
    "observation_type = None\n",
    "# How many observations are there\n",
    "num_observations = None"
   ]
  },
  {
   "cell_type": "code",
   "execution_count": 4,
   "id": "incomplete-trader",
   "metadata": {},
   "outputs": [],
   "source": [
    "#__SOLUTION__\n",
    "# Find the datatype for the overall dataset\n",
    "dataset_type = type(restaurants)\n",
    "# Isolate the first observation\n",
    "first_observation = restaurants[0]\n",
    "# Find the datatype for the first observation\n",
    "observation_type = type(restaurants[0])\n",
    "# How many observations are there\n",
    "num_observations = len(restaurants)"
   ]
  },
  {
   "cell_type": "markdown",
   "id": "canadian-wheel",
   "metadata": {},
   "source": [
    "Run this following cell unchanged to print out descriptive information for the dataset!"
   ]
  },
  {
   "cell_type": "code",
   "execution_count": 5,
   "id": "surprised-keyboard",
   "metadata": {},
   "outputs": [
    {
     "name": "stdout",
     "output_type": "stream",
     "text": [
      "The dataset is a \u001b[1m<class 'list'>\u001b[0m\n",
      "The observations are a \u001b[1m<class 'dict'>\u001b[0m\n",
      "There are \u001b[1m1000 observations.\u001b[0m\n",
      "\u001b[1m\n",
      "The first observation:\u001b[0m\n",
      "==========================================\n",
      "{'latitude': 40.72308755605564,\n",
      " 'location': {'address1': '27 Prince St',\n",
      "              'address2': None,\n",
      "              'address3': '',\n",
      "              'city': 'New York',\n",
      "              'country': 'US',\n",
      "              'display_address': ['27 Prince St', 'New York, NY 10012'],\n",
      "              'state': 'NY',\n",
      "              'zip_code': '10012'},\n",
      " 'longitude': -73.99453001177575,\n",
      " 'name': 'Prince Street Pizza',\n",
      " 'phone': '+12129664100',\n",
      " 'price': '\\\\$',\n",
      " 'rating': 4.5,\n",
      " 'review_count': 3976,\n",
      " 'transactions': ['delivery', 'pickup']}\n",
      "==========================================\n"
     ]
    }
   ],
   "source": [
    "from pprint import pprint\n",
    "\n",
    "print(f'The dataset is a \\033[1m{dataset_type}\\033[0m')\n",
    "print(f'The observations are a \\033[1m{observation_type}\\033[0m',)\n",
    "print(f'There are \\033[1m{num_observations} observations.\\033[0m')\n",
    "print('\\033[1m\\nThe first observation:\\033[0m')\n",
    "print('==========================================')\n",
    "pprint(first_observation)\n",
    "print('==========================================')"
   ]
  },
  {
   "cell_type": "code",
   "execution_count": 56,
   "id": "narrow-occasion",
   "metadata": {},
   "outputs": [
    {
     "name": "stdout",
     "output_type": "stream",
     "text": [
      "The dataset is a \u001b[1m<class 'list'>\u001b[0m\n",
      "The observations are a \u001b[1m<class 'dict'>\u001b[0m\n",
      "There are \u001b[1m1000 observations.\u001b[0m\n",
      "\u001b[1m\n",
      "The first observation:\u001b[0m\n",
      "==========================================\n",
      "{'latitude': 40.72308755605564,\n",
      " 'location': {'address1': '27 Prince St',\n",
      "              'address2': None,\n",
      "              'address3': '',\n",
      "              'city': 'New York',\n",
      "              'country': 'US',\n",
      "              'display_address': ['27 Prince St', 'New York, NY 10012'],\n",
      "              'state': 'NY',\n",
      "              'zip_code': '10012'},\n",
      " 'longitude': -73.99453001177575,\n",
      " 'name': 'Prince Street Pizza',\n",
      " 'phone': '+12129664100',\n",
      " 'price': '\\\\$',\n",
      " 'rating': 4.5,\n",
      " 'review_count': 3976,\n",
      " 'transactions': ['delivery', 'pickup']}\n",
      "==========================================\n"
     ]
    }
   ],
   "source": [
    "#__SOLUTION__\n",
    "from pprint import pprint\n",
    "\n",
    "print(f'The dataset is a \\033[1m{dataset_type}\\033[0m')\n",
    "print(f'The observations are a \\033[1m{observation_type}\\033[0m',)\n",
    "print(f'There are \\033[1m{num_observations} observations.\\033[0m')\n",
    "print('\\033[1m\\nThe first observation:\\033[0m')\n",
    "print('==========================================')\n",
    "pprint(first_observation)\n",
    "print('==========================================')"
   ]
  },
  {
   "cell_type": "markdown",
   "id": "atlantic-application",
   "metadata": {},
   "source": [
    "## Find the possible rating options. \n",
    "\n",
    "In the cell below, create a variable called `rating_options` that has a [set datatype](https://realpython.com/python-sets/), and is a unique collection of the possible ratings a restaurant can recieve."
   ]
  },
  {
   "cell_type": "code",
   "execution_count": 6,
   "id": "broke-array",
   "metadata": {},
   "outputs": [],
   "source": [
    "# Create the `rating_options` variable\n",
    "rating_options = None\n",
    "\n",
    "# Loop over all of the observations in the dataset\n",
    "\n",
    "\n",
    "    # Isolate the rating for the restaurant\n",
    "    # YOUR CODE HERE\n",
    "    \n",
    "    # Add the rating to \n",
    "    # the `rating_options` variable\n",
    "    # YOUR CODE HERE\n",
    "    \n",
    "rating_options"
   ]
  },
  {
   "cell_type": "code",
   "execution_count": 7,
   "id": "victorian-solution",
   "metadata": {},
   "outputs": [
    {
     "data": {
      "text/plain": [
       "{1.0, 2.0, 2.5, 3.0, 3.5, 4.0, 4.5, 5.0}"
      ]
     },
     "execution_count": 7,
     "metadata": {},
     "output_type": "execute_result"
    }
   ],
   "source": [
    "#__SOLUTION__\n",
    "# Create the `rating_options` variable\n",
    "rating_options = set()\n",
    "\n",
    "# Loop over all of the observations in the dataset\n",
    "for restaurant in restaurants:\n",
    "    # Isolate the rating for the restaurant\n",
    "    rating = restaurant['rating']\n",
    "    # Add the rating for to \n",
    "    # the `rating_options` variable\n",
    "    rating_options.add(rating)\n",
    "    \n",
    "rating_options"
   ]
  },
  {
   "cell_type": "markdown",
   "id": "aquatic-fourth",
   "metadata": {},
   "source": [
    "Run the next cell unchanged to test your work!\n",
    "> If the below cell runs without throwing an error, your code is likely correct!"
   ]
  },
  {
   "cell_type": "code",
   "execution_count": 8,
   "id": "czech-spring",
   "metadata": {},
   "outputs": [],
   "source": [
    "assert type(rating_options) == set\n",
    "assert len(rating_options) == 8\n",
    "assert list(rating_options)[0] != list(rating_options)[1]"
   ]
  },
  {
   "cell_type": "code",
   "execution_count": null,
   "id": "consistent-patrol",
   "metadata": {},
   "outputs": [],
   "source": [
    "#__SOLUTION__\n",
    "assert type(rating_options) == set\n",
    "assert len(rating_options) == 8\n",
    "assert list(rating_options)[0] != list(rating_options)[1]"
   ]
  },
  {
   "cell_type": "markdown",
   "id": "charitable-oracle",
   "metadata": {},
   "source": [
    "## Plot the distribution for ratings\n",
    "\n",
    "Now that you know what rating options are available, in the cell below plot a histogram showing the distribution of ratings. "
   ]
  },
  {
   "cell_type": "code",
   "execution_count": 9,
   "id": "electric-grocery",
   "metadata": {},
   "outputs": [],
   "source": [
    "# Import matplotlib's pyplot module\n",
    "\n",
    "# Create an empty list.\n",
    "# We will store all ratings in this list\n",
    "ratings = None\n",
    "\n",
    "# Loop over every restaurant in the dataset\n",
    "# YOUR CODE HERE\n",
    "\n",
    "    # Isolate the rating\n",
    "    # YOUR CODE HERE\n",
    "    # Append the rating to the `ratings` list\n",
    "    # YOUR CODE HERE\n",
    "\n",
    "# Create a matplotlib subplot\n",
    "# YOUR CODE HERE\n",
    "\n",
    "# Plot a histogram of the ratings list\n",
    "# YOUR CODE HERE"
   ]
  },
  {
   "cell_type": "code",
   "execution_count": 11,
   "id": "editorial-trauma",
   "metadata": {},
   "outputs": [
    {
     "data": {
      "image/png": "[encoded data removed]",
      "text/plain": [
       "<Figure size 1080x432 with 1 Axes>"
      ]
     },
     "metadata": {
      "needs_background": "light"
     },
     "output_type": "display_data"
    }
   ],
   "source": [
    "#__SOLUTION__\n",
    "# Import matplotlib's pyplot module\n",
    "import matplotlib.pyplot as plt\n",
    "\n",
    "# Create an empty list.\n",
    "# We will store all ratings in this list\n",
    "ratings = []\n",
    "\n",
    "# Loop over every restaurant in the dataset\n",
    "for restaurant in restaurants:\n",
    "    # Isolate the rating\n",
    "    rating = restaurant['rating']\n",
    "    # Append the rating to the `ratings` list\n",
    "    ratings.append(rating)\n",
    "\n",
    "# Create a matplotlib subplot\n",
    "fig, ax = plt.subplots(figsize=(15,6))\n",
    "# Plot a histogram of the ratings list\n",
    "ax.hist(ratings);"
   ]
  },
  {
   "cell_type": "markdown",
   "id": "digital-marshall",
   "metadata": {},
   "source": [
    "**Interpret the ratings histogram. How does the visualization relate to your client's claims?**"
   ]
  },
  {
   "cell_type": "markdown",
   "id": "adjusted-sterling",
   "metadata": {},
   "source": [
    "==SOLUTION==\n",
    "\n",
    "The `ratings` histogram shows us that Yelp ratings are centered around `4.0` and the majority of restaurants have a rating between `3.5` and `4.5`. \n",
    "\n",
    "This visualization disproves my clients belief that the average rating for an NYC pizza restaurant is `3.0`. In fact, a restaurant with a `3.0` rating is quite low!"
   ]
  },
  {
   "cell_type": "markdown",
   "id": "martial-receiver",
   "metadata": {},
   "source": [
    "## Isolate the restaurants with an above average rating\n",
    "\n",
    "Now that you have an understanding for what is an average rating, next you will isolate restaurants with above average and below average ratings so you can compare them.\n",
    "\n",
    "In the cell below, filter out all restaurants that do not have a rating of at least `4.5`."
   ]
  },
  {
   "cell_type": "code",
   "execution_count": 12,
   "id": "possible-arrest",
   "metadata": {},
   "outputs": [],
   "source": [
    "# Create an empty list\n",
    "# You will store restaurants in this list\n",
    "above_average = None\n",
    "\n",
    "# Loop over the dataset\n",
    "# YOUR CODE HERE\n",
    "\n",
    "    # Isolate the rating\n",
    "    # YOUR CODE HERE\n",
    "    \n",
    "    # Check if the rating is at least 4.5\n",
    "    # YOUR CODE HERE\n",
    "        # If the rating is at least 4.5\n",
    "        # Add the restaurant to the list\n",
    "        # YOUR CODE HERE"
   ]
  },
  {
   "cell_type": "code",
   "execution_count": 13,
   "id": "southwest-editor",
   "metadata": {},
   "outputs": [],
   "source": [
    "#__SOLUTION__\n",
    "# Create an empty list\n",
    "# You will store restaurants in this list\n",
    "above_average = []\n",
    "\n",
    "# Loop over the restaurants in the dataset\n",
    "for restaurant in restaurants:\n",
    "    # Isolate the rating\n",
    "    rating = restaurant['rating']\n",
    "    # Check if the rating is at least 4.5\n",
    "    if rating >= 4.5:\n",
    "        # If the rating is at least 4.5\n",
    "        # Add the restaurant to the list\n",
    "        above_average.append(restaurant)"
   ]
  },
  {
   "cell_type": "markdown",
   "id": "compressed-timeline",
   "metadata": {},
   "source": [
    "Run the next cell unchanged to test your work!\n",
    "> If the below cell runs without throwing an error, your code is likely correct!"
   ]
  },
  {
   "cell_type": "code",
   "execution_count": 14,
   "id": "falling-argentina",
   "metadata": {},
   "outputs": [],
   "source": [
    "assert type(above_average) == list\n",
    "assert type(above_average[0]) == dict\n",
    "assert len(above_average) == 306"
   ]
  },
  {
   "cell_type": "code",
   "execution_count": null,
   "id": "satisfied-bulgaria",
   "metadata": {},
   "outputs": [],
   "source": [
    "#__SOLUTION__\n",
    "assert type(above_average) == list\n",
    "assert type(above_average[0]) == dict\n",
    "assert len(above_average) == 306"
   ]
  },
  {
   "cell_type": "markdown",
   "id": "elder-petersburg",
   "metadata": {},
   "source": [
    "## Isolate restaurants with a below average rating\n",
    "\n",
    "Now repeat the process for below average ratings.\n",
    "\n",
    "In the cell below, isolate restaurants that have a rating of no more than `3.5`."
   ]
  },
  {
   "cell_type": "code",
   "execution_count": 15,
   "id": "intense-deviation",
   "metadata": {},
   "outputs": [],
   "source": [
    "# Create an empty list\n",
    "# You will store restaurants in this list\n",
    "below_average = None\n",
    "\n",
    "# Loop over the restaurants in the dataset\n",
    "# YOUR CODE HERE\n",
    "\n",
    "    # Isolate the rating\n",
    "    # YOUR CODE HERE\n",
    "    \n",
    "    # Check if the rating is no more than 3.5\n",
    "    # YOUR CODE HERE\n",
    "    \n",
    "        # If the rating no more than 3.5\n",
    "        # Add the restaurant to the list\n",
    "        # YOUR CODE HERE"
   ]
  },
  {
   "cell_type": "code",
   "execution_count": 16,
   "id": "manual-italy",
   "metadata": {},
   "outputs": [],
   "source": [
    "#__SOLUTION__\n",
    "# Create an empty list\n",
    "# You will store restaurants in this list\n",
    "below_average = []\n",
    "\n",
    "# Loop over the restaurants in the dataset\n",
    "for restaurant in restaurants:\n",
    "    # Isolate the rating\n",
    "    rating = restaurant['rating']\n",
    "    # Check if the rating is no more than 3.5\n",
    "    if rating <= 3.5:\n",
    "        # If the rating no more than 3.5\n",
    "        # Add the restaurant to the list\n",
    "        below_average.append(restaurant)"
   ]
  },
  {
   "cell_type": "markdown",
   "id": "congressional-airline",
   "metadata": {},
   "source": [
    "Run the next cell unchanged to test your work!\n",
    "> If the below cell runs without throwing an error, your code is likely correct!"
   ]
  },
  {
   "cell_type": "code",
   "execution_count": 17,
   "id": "engaged-resident",
   "metadata": {},
   "outputs": [],
   "source": [
    "assert type(below_average) == list\n",
    "assert type(below_average[0]) == dict\n",
    "assert len(below_average) == 247"
   ]
  },
  {
   "cell_type": "code",
   "execution_count": null,
   "id": "brazilian-crazy",
   "metadata": {},
   "outputs": [],
   "source": [
    "#__SOLUTION__\n",
    "assert type(below_average) == list\n",
    "assert type(below_average[0]) == dict\n",
    "assert len(below_average) == 247"
   ]
  },
  {
   "cell_type": "markdown",
   "id": "competitive-roommate",
   "metadata": {},
   "source": [
    "## Calculate average review counts for both groups\n",
    "\n",
    "Now that you've isolated above average and below average restaurants, you can calculate the average number of reviews received by both groups.\n",
    "\n",
    "To do this, you will need to isolate the review counts for both groups, and calculate their average. \n",
    "\n",
    "The code for isolating the review counts will look very similar to code you have previously written, which is a good sign that a function should be defined!\n",
    "\n",
    "In the cell below, define a function called `isolate_values` that receives two arguments:\n",
    "1. A list of dictionaries\n",
    "2. A string indicating the key that should be isolated for each dictionary\n",
    "\n",
    "This function should:\n",
    "- Loop over every dictionary in the inputted list\n",
    "- Pull out the value assigned to the inputted key\n",
    "- Append the value to a new list\n",
    "- Return the new list of values"
   ]
  },
  {
   "cell_type": "code",
   "execution_count": 18,
   "id": "efficient-kingdom",
   "metadata": {},
   "outputs": [
    {
     "ename": "SyntaxError",
     "evalue": "unexpected EOF while parsing (<ipython-input-18-031c9061accf>, line 16)",
     "output_type": "error",
     "traceback": [
      "\u001b[0;36m  File \u001b[0;32m\"<ipython-input-18-031c9061accf>\"\u001b[0;36m, line \u001b[0;32m16\u001b[0m\n\u001b[0;31m    # YOUR CODE HERE\u001b[0m\n\u001b[0m                    ^\u001b[0m\n\u001b[0;31mSyntaxError\u001b[0m\u001b[0;31m:\u001b[0m unexpected EOF while parsing\n"
     ]
    }
   ],
   "source": [
    "def isolate_values(dictionaries, key):\n",
    "    # Create an empty list\n",
    "    # for storing data\n",
    "    # YOUR CODE HERE\n",
    "    \n",
    "    # Loop over every dicionary \n",
    "    # YOUR CODE HERE\n",
    "        \n",
    "        # Isolate the value of the dictionary with the `key`\n",
    "        # YOUR CODE HERE\n",
    "        \n",
    "        # Append the value to the list\n",
    "        # YOUR CODE HERE\n",
    "    \n",
    "    # Return the list of values\n",
    "    # YOUR CODE HERE"
   ]
  },
  {
   "cell_type": "code",
   "execution_count": 19,
   "id": "severe-twist",
   "metadata": {},
   "outputs": [],
   "source": [
    "#__SOLUTION__\n",
    "def isolate_values(dictionaries, key):\n",
    "    # Create an empty list\n",
    "    # for storing data\n",
    "    values = []\n",
    "    \n",
    "    # Loop over every dicionary \n",
    "    for dictionary in dictionaries:\n",
    "        \n",
    "        # Isolate the value of the dictionary with the `key`\n",
    "        value = dictionary[key]\n",
    "        \n",
    "        # Append the value to the list\n",
    "        values.append(value)\n",
    "    \n",
    "    # Return the list of values\n",
    "    return values"
   ]
  },
  {
   "cell_type": "markdown",
   "id": "extended-portal",
   "metadata": {},
   "source": [
    "Run the next cell unchanged to test your work!\n",
    "> If the below cell runs without throwing an error, your code is likely correct!"
   ]
  },
  {
   "cell_type": "code",
   "execution_count": 20,
   "id": "yellow-phoenix",
   "metadata": {},
   "outputs": [],
   "source": [
    "from types import FunctionType\n",
    "\n",
    "assert type(isolate_values) == FunctionType\n",
    "assert type(isolate_values([{'test': 1}], 'test')) == list\n",
    "assert len(isolate_values([{'test': 1}], 'test')) == 1\n",
    "assert len(isolate_values(above_average, 'name')) == len(above_average)\n",
    "assert isolate_values(above_average, 'name')[-1] == above_average[-1]['name']"
   ]
  },
  {
   "cell_type": "code",
   "execution_count": null,
   "id": "southern-highland",
   "metadata": {},
   "outputs": [],
   "source": [
    "#__SOLUTION__\n",
    "from types import FunctionType\n",
    "\n",
    "assert type(isolate_values) == FunctionType\n",
    "assert type(isolate_values([{'test': 1}], 'test')) == list\n",
    "assert len(isolate_values([{'test': 1}], 'test')) == 1\n",
    "assert len(isolate_values(above_average, 'name')) == len(above_average)\n",
    "assert isolate_values(above_average, 'name')[-1] == above_average[-1]['name']"
   ]
  },
  {
   "cell_type": "markdown",
   "id": "outer-assembly",
   "metadata": {},
   "source": [
    "Now use the `isolate_values` function to create a list called `abv_avg_rev_cnts` that contains the review counts for every above average restaurant."
   ]
  },
  {
   "cell_type": "code",
   "execution_count": 21,
   "id": "useful-halloween",
   "metadata": {},
   "outputs": [],
   "source": [
    "# Replace None with your code\n",
    "abv_avg_rev_cnts = None"
   ]
  },
  {
   "cell_type": "code",
   "execution_count": 22,
   "id": "associate-conservation",
   "metadata": {},
   "outputs": [],
   "source": [
    "#__SOLUTION__\n",
    "abv_avg_rev_cnts = isolate_values(above_average, 'review_count')"
   ]
  },
  {
   "cell_type": "markdown",
   "id": "severe-amateur",
   "metadata": {},
   "source": [
    "Now use the `isolate_values` function to create a list called `blw_avg_rev_cnts` that contains the review counts for every below average restaurant."
   ]
  },
  {
   "cell_type": "code",
   "execution_count": 23,
   "id": "herbal-interim",
   "metadata": {},
   "outputs": [],
   "source": [
    "# Replace None with your code\n",
    "blw_avg_rev_cnts = None"
   ]
  },
  {
   "cell_type": "code",
   "execution_count": 24,
   "id": "structural-belize",
   "metadata": {},
   "outputs": [],
   "source": [
    "#__SOLUTION__\n",
    "blw_avg_rev_cnts = isolate_values(below_average, 'review_count')"
   ]
  },
  {
   "cell_type": "markdown",
   "id": "executive-hormone",
   "metadata": {},
   "source": [
    "Run the next cell unchanged to test your work!\n",
    "> If the below cell runs without throwing an error, your code is likely correct!"
   ]
  },
  {
   "cell_type": "code",
   "execution_count": 25,
   "id": "utility-pharmacy",
   "metadata": {},
   "outputs": [],
   "source": [
    "assert type(abv_avg_rev_cnts) == list\n",
    "assert type(abv_avg_rev_cnts[0]) == int\n",
    "assert type(blw_avg_rev_cnts) == list\n",
    "assert type(blw_avg_rev_cnts[0]) == int\n",
    "assert len(abv_avg_rev_cnts) == len(above_average)\n",
    "assert len(blw_avg_rev_cnts) == len(below_average)\n",
    "assert abv_avg_rev_cnts[101] == above_average[101]['review_count']\n",
    "assert blw_avg_rev_cnts[101] == below_average[101]['review_count']"
   ]
  },
  {
   "cell_type": "code",
   "execution_count": null,
   "id": "ultimate-excitement",
   "metadata": {},
   "outputs": [],
   "source": [
    "#__SOLUTION__\n",
    "assert type(abv_avg_rev_cnts) == list\n",
    "assert type(abv_avg_rev_cnts[0]) == int\n",
    "assert type(blw_avg_rev_cnts) == list\n",
    "assert type(blw_avg_rev_cnts[0]) == int\n",
    "assert len(abv_avg_rev_cnts) == len(above_average)\n",
    "assert len(blw_avg_rev_cnts) == len(below_average)\n",
    "assert abv_avg_rev_cnts[101] == above_average[101]['review_count']\n",
    "assert blw_avg_rev_cnts[101] == below_average[101]['review_count']"
   ]
  },
  {
   "cell_type": "markdown",
   "id": "verbal-pressing",
   "metadata": {},
   "source": [
    "Now that you've isolated the review counts for both groups, you can calculate the average review count!\n",
    "\n",
    "But before you do that, you should inspect the distribution of review counts to make sure `mean` is an appropriate measure of centrality.\n",
    "\n",
    "In the cell below, we plot a histogram for above average and below average restaurant review counts."
   ]
  },
  {
   "cell_type": "code",
   "execution_count": null,
   "id": "wooden-viking",
   "metadata": {},
   "outputs": [],
   "source": [
    "# Initialize a matplotlib subplot\n",
    "# with 1 row and 2 columns\n",
    "fig, ax = plt.subplots(1,2, figsize=(15,6))\n",
    "\n",
    "# Plot a histogram of below average review counts\n",
    "# on the first axis\n",
    "ax[0].hist(blw_avg_rev_cnts)\n",
    "\n",
    "# Set the title for the first axis\n",
    "# to \"Below Average - Review Counts\"\n",
    "ax[0].set_title(\"Below Average - Review Counts\")\n",
    "\n",
    "# Plot a histogram of above average review counts\n",
    "# on the first axis\n",
    "ax[1].hist(abv_avg_rev_cnts)\n",
    "\n",
    "# Set the title for the first axis\n",
    "# to \"Above Average - Review Counts\"\n",
    "ax[1].set_title(\"Above Average - Review Counts\");"
   ]
  },
  {
   "cell_type": "code",
   "execution_count": 26,
   "id": "exposed-trinity",
   "metadata": {},
   "outputs": [
    {
     "data": {
      "image/png": "[encoded data removed]",
      "text/plain": [
       "<Figure size 1080x432 with 2 Axes>"
      ]
     },
     "metadata": {
      "needs_background": "light"
     },
     "output_type": "display_data"
    }
   ],
   "source": [
    "#__SOLUTION__\n",
    "# Initialize a matplotlib subplot\n",
    "# with 1 row and 2 columns\n",
    "fig, ax = plt.subplots(1,2, figsize=(15,6))\n",
    "\n",
    "# Plot a histogram of below average review counts\n",
    "# on the first axis\n",
    "ax[0].hist(blw_avg_rev_cnts)\n",
    "\n",
    "# Set the title for the first axis\n",
    "# to \"Below Average - Review Counts\"\n",
    "ax[0].set_title(\"Below Average - Review Counts\")\n",
    "\n",
    "# Plot a histogram of above average review counts\n",
    "# on the first axis\n",
    "ax[1].hist(abv_avg_rev_cnts)\n",
    "\n",
    "# Set the title for the first axis\n",
    "# to \"Above Average - Review Counts\"\n",
    "ax[1].set_title(\"Above Average - Review Counts\");"
   ]
  },
  {
   "cell_type": "markdown",
   "id": "regulation-radius",
   "metadata": {},
   "source": [
    "**Interpret the above visualizations. What statistic is best suited for these data?**"
   ]
  },
  {
   "cell_type": "markdown",
   "id": "atmospheric-trauma",
   "metadata": {},
   "source": [
    "==SOLUTION==\n",
    "\n",
    "The above distributions both have significant outliers in the positive direction. The vast majority of review counts are between 0 and 1000 for restaurants with a below average rating, and between 0 and ~800 for restaurants with an above average rating. Given how skewed these data are, a median is a better measure of centrality."
   ]
  },
  {
   "cell_type": "markdown",
   "id": "continuous-mills",
   "metadata": {},
   "source": [
    "In the cell below, calculate the average review count for above average and below average restaurants."
   ]
  },
  {
   "cell_type": "code",
   "execution_count": 1,
   "id": "terminal-morrison",
   "metadata": {},
   "outputs": [
    {
     "name": "stdout",
     "output_type": "stream",
     "text": [
      "Above average review count: None\n",
      "Below average review count: None\n"
     ]
    }
   ],
   "source": [
    "# Import numpy\n",
    "# YOUR CODE HERE\n",
    "\n",
    "# Replace None with your code\n",
    "abv_avg_rev_cnt_center = None\n",
    "blw_avg_rev_cnt_center = None\n",
    "\n",
    "print('Above average review count:', abv_avg_rev_cnt_center)\n",
    "print('Below average review count:', blw_avg_rev_cnt_center)"
   ]
  },
  {
   "cell_type": "code",
   "execution_count": 2,
   "id": "guilty-circular",
   "metadata": {},
   "outputs": [
    {
     "ename": "NameError",
     "evalue": "name 'abv_avg_rev_cnts' is not defined",
     "output_type": "error",
     "traceback": [
      "\u001b[0;31m---------------------------------------------------------------------------\u001b[0m",
      "\u001b[0;31mNameError\u001b[0m                                 Traceback (most recent call last)",
      "\u001b[0;32m<ipython-input-2-793814bafe55>\u001b[0m in \u001b[0;36m<module>\u001b[0;34m\u001b[0m\n\u001b[1;32m      4\u001b[0m \u001b[0;34m\u001b[0m\u001b[0m\n\u001b[1;32m      5\u001b[0m \u001b[0;31m# Replace None with your code\u001b[0m\u001b[0;34m\u001b[0m\u001b[0;34m\u001b[0m\u001b[0;34m\u001b[0m\u001b[0m\n\u001b[0;32m----> 6\u001b[0;31m \u001b[0mabv_avg_rev_cnt_center\u001b[0m \u001b[0;34m=\u001b[0m \u001b[0mnp\u001b[0m\u001b[0;34m.\u001b[0m\u001b[0mmedian\u001b[0m\u001b[0;34m(\u001b[0m\u001b[0mabv_avg_rev_cnts\u001b[0m\u001b[0;34m)\u001b[0m\u001b[0;34m\u001b[0m\u001b[0;34m\u001b[0m\u001b[0m\n\u001b[0m\u001b[1;32m      7\u001b[0m \u001b[0mblw_avg_rev_cnt_center\u001b[0m \u001b[0;34m=\u001b[0m \u001b[0mnp\u001b[0m\u001b[0;34m.\u001b[0m\u001b[0mmedian\u001b[0m\u001b[0;34m(\u001b[0m\u001b[0mblw_avg_rev_cnts\u001b[0m\u001b[0;34m)\u001b[0m\u001b[0;34m\u001b[0m\u001b[0;34m\u001b[0m\u001b[0m\n\u001b[1;32m      8\u001b[0m \u001b[0;34m\u001b[0m\u001b[0m\n",
      "\u001b[0;31mNameError\u001b[0m: name 'abv_avg_rev_cnts' is not defined"
     ]
    }
   ],
   "source": [
    "#__SOLUTION__\n",
    "# Import numpy\n",
    "import numpy as np\n",
    "\n",
    "# Replace None with your code\n",
    "abv_avg_rev_cnt_center = np.median(abv_avg_rev_cnts)\n",
    "blw_avg_rev_cnt_center = np.median(blw_avg_rev_cnts)\n",
    "\n",
    "print('Above average center review count:', abv_avg_rev_cnt_center)\n",
    "print('Below average center review count:', blw_avg_rev_cnt_center)"
   ]
  },
  {
   "cell_type": "markdown",
   "id": "sitting-associate",
   "metadata": {},
   "source": [
    "**Interpret the average review count for both groups. How does this relate to your client's claims?**"
   ]
  },
  {
   "cell_type": "markdown",
   "id": "stunning-setup",
   "metadata": {},
   "source": [
    "==SOLUTION==\n",
    "\n",
    "Restaurants with a low average rating, on average have ~100 more reviews than Restaurants with an above average rating. My client's claim that more reviews = better ratings is not supported by the data."
   ]
  },
  {
   "cell_type": "markdown",
   "id": "fallen-dress",
   "metadata": {},
   "source": [
    "## Count the price option frequency\n",
    "\n",
    "The `price` variable in the dataset is a string of dollar signs indicating how expensive a restaurant's price point is. \n",
    "\n",
    "In the cell below, write a for loop that counts how frequently a given price point appears for the `above_average` dataset"
   ]
  },
  {
   "cell_type": "code",
   "execution_count": 29,
   "id": "verbal-peripheral",
   "metadata": {},
   "outputs": [],
   "source": [
    "# Create an empty dictionary to store the\n",
    "# counts for each price point\n",
    "abv_avg_prices = {}\n",
    "\n",
    "# Loop over the above average restaurants\n",
    "# YOUR CODE HERE\n",
    "\n",
    "    # Isolate the price point for the restuarant\n",
    "    # YOUR CODE HERE\n",
    "    \n",
    "    # Check if the price has been added to the dictionary\n",
    "    # YOUR CODE HERE\n",
    "    \n",
    "            # If the price is already a key in the dictionary\n",
    "            # Add one to the count for that price point\n",
    "            # YOUR CODE HERE\n",
    "            \n",
    "    # If the price has not been added to the dictionary\n",
    "    # Else set the price as the key and the value as the integer `1`\n",
    "    # YOUR CODE HERE"
   ]
  },
  {
   "cell_type": "code",
   "execution_count": 30,
   "id": "cordless-representation",
   "metadata": {},
   "outputs": [],
   "source": [
    "#__SOLUTION__\n",
    "# Create an empty dictionary to store the\n",
    "# counts for each price point\n",
    "abv_avg_prices = {}\n",
    "\n",
    "# Loop over the above average restaurants\n",
    "for row in above_average:\n",
    "    # Isolate the price point for the restuarant\n",
    "    price = row['price']\n",
    "    # Check if the price has been added to the dictionary\n",
    "    if price in abv_avg_prices:\n",
    "            # If the price is already a key in the dictionary\n",
    "            # Add one to the count for that price point\n",
    "            abv_avg_prices[price] += 1\n",
    "    # If the price has not been added to the dictionary\n",
    "    # Else set the price as the key and the value as the integer `1`\n",
    "    else:\n",
    "        abv_avg_prices[price] = 1"
   ]
  },
  {
   "cell_type": "markdown",
   "id": "italic-theology",
   "metadata": {},
   "source": [
    "Run the next cell unchanged to test your work!\n",
    "> If the below cell runs without throwing an error, your code is likely correct!"
   ]
  },
  {
   "cell_type": "code",
   "execution_count": 31,
   "id": "romantic-password",
   "metadata": {},
   "outputs": [],
   "source": [
    "assert type(abv_avg_prices) == dict\n",
    "assert len(abv_avg_prices) == 5\n",
    "assert '\\\\$\\\\$\\\\$\\\\$' in abv_avg_prices"
   ]
  },
  {
   "cell_type": "code",
   "execution_count": null,
   "id": "tired-underwear",
   "metadata": {},
   "outputs": [],
   "source": [
    "#__SOLUTION__\n",
    "assert type(abv_avg_prices) == dict\n",
    "assert len(abv_avg_prices) == 5\n",
    "assert '\\\\$\\\\$\\\\$\\\\$' in abv_avg_prices"
   ]
  },
  {
   "cell_type": "markdown",
   "id": "governing-resistance",
   "metadata": {},
   "source": [
    "**Now reapply the same process, but instead calculate the price point frequencies for the `below_average` dataset.**"
   ]
  },
  {
   "cell_type": "code",
   "execution_count": 32,
   "id": "banner-reward",
   "metadata": {},
   "outputs": [],
   "source": [
    "# Create an empty dictionary to store the\n",
    "# counts for each price point\n",
    "# YOUR CODE HERE\n",
    "\n",
    "# Loop over the below average restaurants\n",
    "# YOUR CODE HERE\n",
    "\n",
    "    # Isolate the price point for the restuarant\n",
    "    # YOUR CODE HERE\n",
    "    \n",
    "    # Check if the price has been added to the dictionary\n",
    "    # YOUR CODE HERE\n",
    "    \n",
    "            # If the price is already a key in the dictionary\n",
    "            # Add one to the count for that price point\n",
    "            # YOUR CODE HERE\n",
    "            \n",
    "    # If the price has not been added to the dictionary\n",
    "    # Set the price as the key and the value as the integer `1`\n",
    "    # YOUR CODE HERE"
   ]
  },
  {
   "cell_type": "code",
   "execution_count": 33,
   "id": "civilian-reasoning",
   "metadata": {},
   "outputs": [],
   "source": [
    "#__SOLUTION__\n",
    "# Create an empty dictionary to store the\n",
    "# counts for each price point\n",
    "blw_avg_prices = {}\n",
    "\n",
    "# Loop over the below average restaurants\n",
    "for row in below_average:\n",
    "    # Isolate the price point for the restuarant\n",
    "    price = row['price']\n",
    "    # Check if the price has been added to the dictionary\n",
    "    if price in blw_avg_prices:\n",
    "            # If the price is already a key in the dictionary\n",
    "            # Add one to the count for that price point\n",
    "            blw_avg_prices[price] += 1\n",
    "    # If the price has not been added to the dictionary\n",
    "    # Set the price as the key and the value as the integer `1`\n",
    "    else:\n",
    "        blw_avg_prices[price] = 1"
   ]
  },
  {
   "cell_type": "markdown",
   "id": "minimal-accused",
   "metadata": {},
   "source": [
    "Run the next cell unchanged to test your work!\n",
    "> If the below cell runs without throwing an error, your code is likely correct!"
   ]
  },
  {
   "cell_type": "code",
   "execution_count": 34,
   "id": "filled-absolute",
   "metadata": {},
   "outputs": [],
   "source": [
    "assert type(blw_avg_prices) == dict\n",
    "assert len(blw_avg_prices) == 4\n",
    "assert '\\\\$' in blw_avg_prices"
   ]
  },
  {
   "cell_type": "code",
   "execution_count": null,
   "id": "pediatric-entity",
   "metadata": {},
   "outputs": [],
   "source": [
    "#__SOLUTION__\n",
    "assert type(blw_avg_prices) == dict\n",
    "assert len(blw_avg_prices) == 4\n",
    "assert '\\\\$' in blw_avg_prices"
   ]
  },
  {
   "cell_type": "markdown",
   "id": "departmental-attitude",
   "metadata": {},
   "source": [
    "## Create a bar plot that sets the frequency of each price point as the y axis"
   ]
  },
  {
   "cell_type": "code",
   "execution_count": 35,
   "id": "seeing-extension",
   "metadata": {},
   "outputs": [],
   "source": [
    "# Create a matplotlib subplot with 1 row and 2 columns\n",
    "# YOUR CODE HERE\n",
    "\n",
    "# Isolate keys of the below average price count dictionary\n",
    "# This will be the x-axis\n",
    "# YOUR CODE HERE\n",
    "\n",
    "# Isolate the values of the below average price count dictionary\n",
    "# This will be the y-axis\n",
    "# YOUR CODE HERE\n",
    "\n",
    "# Plot the below average price point counts as a bar plot\n",
    "# on the first axis\n",
    "# YOUR CODE HERE\n",
    "\n",
    "# Set the title for the first axis\n",
    "# to the string \"Below Average\"\n",
    "# YOUR CODE HERE\n",
    "\n",
    "# Isolate keys of the above average price count dictionary\n",
    "# This will be the x-axis\n",
    "# YOUR CODE HERE\n",
    "\n",
    "# Isolate the values of the above average price count dictionary\n",
    "# This will be the y-axis\n",
    "# YOUR CODE HERE\n",
    "\n",
    "# Plot the above average price counts as a bar plot\n",
    "# on the second axis\n",
    "# YOUR CODE HERE\n",
    "\n",
    "# Set the title for the second axis to \n",
    "# the string 'Above Average'\n",
    "# YOUR CODE HERE"
   ]
  },
  {
   "cell_type": "code",
   "execution_count": 38,
   "id": "color-margin",
   "metadata": {},
   "outputs": [
    {
     "data": {
      "image/png": "[encoded data removed]",
      "text/plain": [
       "<Figure size 1080x432 with 2 Axes>"
      ]
     },
     "metadata": {
      "needs_background": "light"
     },
     "output_type": "display_data"
    }
   ],
   "source": [
    "#__SOLUTION__\n",
    "# Create a matplotlib subplot with 1 row and 2 columns\n",
    "fig, ax = plt.subplots(1, 2, figsize=(15,6))\n",
    "\n",
    "# Isolate keys of the below average price count dictionary\n",
    "# This will be the x-axis\n",
    "x = blw_avg_prices.keys()\n",
    "\n",
    "# Isolate the values of the below average price count dictionary\n",
    "# This will be the y-axis\n",
    "y = blw_avg_prices.values()\n",
    "\n",
    "# Plot the below average price point counts as a bar plot\n",
    "# on the first axis\n",
    "ax[0].bar(x, y)\n",
    "\n",
    "# Set the title for the first axis\n",
    "# to the string \"Below Average\"\n",
    "ax[0].set_title('Below Average')\n",
    "\n",
    "# Isolate keys of the above average price count dictionary\n",
    "# This will be the x-axis\n",
    "x = abv_avg_prices.keys()\n",
    "\n",
    "# Isolate the values of the above average price count dictionary\n",
    "# This will be the y-axis\n",
    "y = abv_avg_prices.values()\n",
    "\n",
    "# Plot the above average price counts as a bar plot\n",
    "# on the second axis\n",
    "ax[1].bar(x, y)\n",
    "\n",
    "# Set the title for the second axis to \n",
    "# the string 'Above Average'\n",
    "ax[1].set_title('Above Average');"
   ]
  },
  {
   "cell_type": "markdown",
   "id": "descending-attribute",
   "metadata": {},
   "source": [
    "**Interpret the above visualization. How does it relate to your client's claims?**"
   ]
  },
  {
   "cell_type": "markdown",
   "id": "moderate-thong",
   "metadata": {},
   "source": [
    "==SOLUTION==\n",
    "\n",
    "The above visualization shows that the least expensive price point `$` is the most frequent option for restaurants with a below average rating, and that the price option `Unknown` is the most common for restaurants with an above average rating. My client claims that the price option `$$` is the most common price option for above average restaurants. While this visualization suggests that my client's claim is incorrect, the `$$` price option _is_ the second most frequent price point for above average restaurants. If my clients goal is to align their price options with more above average restaurants a move from `$` to `$$` is justified. I am, however, unable to identify the most commmon price option for above average rated restaurants due to missing data. Further investigating is required."
   ]
  },
  {
   "cell_type": "markdown",
   "id": "occupied-westminster",
   "metadata": {},
   "source": [
    "## Analyze restaurant location\n",
    "\n",
    "In the cell below, use the `isolate_values` function to isolate `longitude` and `latitude` for above and below average restaurants."
   ]
  },
  {
   "cell_type": "code",
   "execution_count": 40,
   "id": "maritime-comparative",
   "metadata": {},
   "outputs": [
    {
     "data": {
      "image/png": "[encoded data removed]",
      "text/plain": [
       "<Figure size 1080x432 with 1 Axes>"
      ]
     },
     "metadata": {
      "needs_background": "light"
     },
     "output_type": "display_data"
    }
   ],
   "source": [
    "# Replace None with your code\n",
    "\n",
    "# Isolate longitude for above average restaurants\n",
    "abv_avg_lon = None\n",
    "\n",
    "# Isolate latitude for above average restaurants\n",
    "abv_avg_lat = None\n",
    "\n",
    "# Isolate longitude for below average restaurants\n",
    "blw_avg_lon = None\n",
    "\n",
    "# Isolate latitude for below average restaurants\n",
    "blw_avg_lat = None\n",
    "\n",
    "plt.figure(figsize=(15,6))\n",
    "plt.scatter(abv_avg_lon, abv_avg_lat, label='Above')\n",
    "plt.scatter(blw_avg_lon, blw_avg_lat, label='Below')\n",
    "plt.legend();"
   ]
  },
  {
   "cell_type": "code",
   "execution_count": 41,
   "id": "accessible-velvet",
   "metadata": {},
   "outputs": [
    {
     "data": {
      "image/png": "[encoded data removed]",
      "text/plain": [
       "<Figure size 1080x432 with 1 Axes>"
      ]
     },
     "metadata": {
      "needs_background": "light"
     },
     "output_type": "display_data"
    }
   ],
   "source": [
    "#__SOLUTION__\n",
    "# Isolate longitude for above average restauransts\n",
    "abv_avg_lon = isolate_values(above_average, 'longitude')\n",
    "\n",
    "# Isolate latitude for above average restaurants\n",
    "abv_avg_lat = isolate_values(above_average, 'latitude')\n",
    "\n",
    "# Isolate longitude for below average restauransts\n",
    "blw_avg_lon = isolate_values(below_average, 'longitude')\n",
    "\n",
    "# Isolate latitude for below average restaurants\n",
    "blw_avg_lat = isolate_values(below_average, 'latitude')\n",
    "\n",
    "plt.figure(figsize=(15,6))\n",
    "plt.scatter(abv_avg_lon, abv_avg_lat, label='Above')\n",
    "plt.scatter(blw_avg_lon, blw_avg_lat, label='Below')\n",
    "plt.legend();"
   ]
  },
  {
   "cell_type": "markdown",
   "id": "intensive-palestine",
   "metadata": {},
   "source": [
    "## Remove the outlier\n",
    "\n",
    "There is one restaurant in the above average dataset with a location dramatically west and south of all other observations. Let's remove that restaurant from the above average dataset and regenerate the scatter plot."
   ]
  },
  {
   "cell_type": "code",
   "execution_count": null,
   "id": "rocky-wrong",
   "metadata": {},
   "outputs": [],
   "source": [
    "# Create an empty list\n",
    "# that will contain data with\n",
    "# the outlier removed\n",
    "no_outliers = # YOUR CODE HERE\n",
    "\n",
    "# Create an empty list to append the outlier\n",
    "outlier = # YOUR CODE HERE\n",
    "\n",
    "# Loop over every restaurant in the above average dataset\n",
    "# YOUR CODE HERE\n",
    "    \n",
    "    # Isolate the restaurant's longitude\n",
    "    # YOUR CODE HERE\n",
    "    \n",
    "    # Check if the longitude value is greater than the integer -90\n",
    "    # YOUR CODE HERE\n",
    "        \n",
    "        # Append the restaurant to the no_outliers list\n",
    "        # YOUR CODE HERE\n",
    "        \n",
    "    # If longitude is less than -90 it is an outlier\n",
    "    # and should be appended to the outlier list\n",
    "    # YOUR CODE HERE"
   ]
  },
  {
   "cell_type": "code",
   "execution_count": 42,
   "id": "exact-floor",
   "metadata": {},
   "outputs": [],
   "source": [
    "#__SOLUTION__\n",
    "# Create an empty list\n",
    "# that will contain data with\n",
    "# the outlier removed\n",
    "no_outliers = []\n",
    "\n",
    "# Create an empty list to append the outlier\n",
    "outlier = []\n",
    "\n",
    "# Loop over every restaurant in the above average dataset\n",
    "for restaurant in above_average:\n",
    "    \n",
    "    # Isolate the restaurant's longitude\n",
    "    longitude = restaurant['longitude']\n",
    "    \n",
    "    # Check if the longitude value is greater than the integer -90\n",
    "    if longitude > -90:\n",
    "        \n",
    "        # Append the restaurant to the no_outliers list\n",
    "        no_outliers.append(restaurant)\n",
    "        \n",
    "    # If longitude is less than -90 it is an outlier\n",
    "    # and should be appended to the outlier list\n",
    "    else:\n",
    "        outlier.append(restaurant)"
   ]
  },
  {
   "cell_type": "markdown",
   "id": "material-psychology",
   "metadata": {},
   "source": [
    "Run the next cell unchanged to test your work!\n",
    "> If the below cell runs without throwing an error, your code is likely correct!"
   ]
  },
  {
   "cell_type": "code",
   "execution_count": 45,
   "id": "crude-medicine",
   "metadata": {},
   "outputs": [],
   "source": [
    "assert type(no_outliers) == list\n",
    "assert type(outlier) == list\n",
    "assert len(no_outliers) == len(above_average) - 1\n",
    "assert len(outlier) == 1"
   ]
  },
  {
   "cell_type": "code",
   "execution_count": null,
   "id": "equivalent-circulation",
   "metadata": {},
   "outputs": [],
   "source": [
    "#__SOLUTION__\n",
    "assert type(no_outliers) == list\n",
    "assert type(outlier) == list\n",
    "assert len(no_outliers) == len(above_average) - 1\n",
    "assert len(outlier) == 1"
   ]
  },
  {
   "cell_type": "markdown",
   "id": "colored-retreat",
   "metadata": {},
   "source": [
    "Now regenerate the longitude and latitude for above average restaurants using the `no_outliers` dataset, and regenerate the scatter plot!"
   ]
  },
  {
   "cell_type": "code",
   "execution_count": null,
   "id": "black-tunnel",
   "metadata": {},
   "outputs": [],
   "source": [
    "abv_avg_lon = None\n",
    "abv_avg_lat = None\n",
    "\n",
    "plt.figure(figsize=(15,6))\n",
    "plt.scatter(abv_avg_lon, abv_avg_lat, label='Above')\n",
    "plt.scatter(blw_avg_lon, blw_avg_lat, label='Below')\n",
    "plt.legend();"
   ]
  },
  {
   "cell_type": "code",
   "execution_count": 46,
   "id": "opposed-process",
   "metadata": {},
   "outputs": [
    {
     "data": {
      "image/png": "[encoded data removed]",
      "text/plain": [
       "<Figure size 1080x432 with 1 Axes>"
      ]
     },
     "metadata": {
      "needs_background": "light"
     },
     "output_type": "display_data"
    }
   ],
   "source": [
    "#__SOLUTION__\n",
    "abv_avg_lon = isolate_values(no_outliers, 'longitude')\n",
    "abv_avg_lat = isolate_values(no_outliers, 'latitude')\n",
    "\n",
    "plt.figure(figsize=(15,6))\n",
    "plt.scatter(abv_avg_lon, abv_avg_lat, label='Above')\n",
    "plt.scatter(blw_avg_lon, blw_avg_lat, label='Below')\n",
    "plt.legend();"
   ]
  },
  {
   "cell_type": "markdown",
   "id": "assured-darkness",
   "metadata": {},
   "source": [
    "Nice. This is much more interesting. "
   ]
  },
  {
   "cell_type": "markdown",
   "id": "everyday-president",
   "metadata": {},
   "source": [
    "## Plot the distribution of latitude and longitude\n",
    "\n",
    "To get a better sense about how latitude and longitude are working, in the cell below plot histograms for latitude and longitude."
   ]
  },
  {
   "cell_type": "code",
   "execution_count": 49,
   "id": "empirical-contract",
   "metadata": {},
   "outputs": [],
   "source": [
    "# Create a matplotlib subplot with 1 row and 2 columns\n",
    "# YOUR CODE HERE\n",
    "\n",
    "# Plot a histogram of above average longitude\n",
    "# on the first subplot axis. Set alpha to .6\n",
    "# Set label to the string \"Above\"\n",
    "# YOUR CODE HERE\n",
    "\n",
    "# Plot a histogram of below average longitude\n",
    "# on the first subplot axis. Set alpha to .6\n",
    "# Set label to the string \"Below\"\n",
    "# YOUR CODE HERE\n",
    "\n",
    "# Set the title for the first subplot axis\n",
    "# to the string \"Longitude\"\n",
    "# YOUR CODE HERE\n",
    "\n",
    "# Plot a histogram of above average latitude\n",
    "# on the second subplot axis. Set alpha to .6\n",
    "# Set label to the string \"Above\"\n",
    "# YOUR CODE HERE\n",
    "\n",
    "# Plot a histogram of below average latitude\n",
    "# on the second subplot axis. Set alpha to .6\n",
    "# Set label to the string \"Below\"\n",
    "# YOUR CODE HERE\n",
    "\n",
    "# Set the title for the second subplot axis\n",
    "# to the string \"Latitude\"\n",
    "# YOUR CODE HERE"
   ]
  },
  {
   "cell_type": "code",
   "execution_count": 55,
   "id": "agreed-magazine",
   "metadata": {},
   "outputs": [
    {
     "data": {
      "image/png": "[encoded data removed]",
      "text/plain": [
       "<Figure size 1080x432 with 2 Axes>"
      ]
     },
     "metadata": {
      "needs_background": "light"
     },
     "output_type": "display_data"
    }
   ],
   "source": [
    "#__SOLUTION__\n",
    "# Create a matplotlib subplot with 1 row and 2 columns\n",
    "fig, ax = plt.subplots(1,2, figsize=(15,6))\n",
    "\n",
    "# Plot a histogram of above average longitude\n",
    "# on the first subplot axis. Set alpha to .6\n",
    "# Set label to the string \"Above\"\n",
    "ax[0].hist(abv_avg_lon, alpha=.6, label='Above')\n",
    "\n",
    "# Plot a histogram of below average longitude\n",
    "# on the first subplot axis. Set alpha to .6\n",
    "# Set label to the string \"Below\"\n",
    "ax[0].hist(blw_avg_lon, alpha=.6, label='Below')\n",
    "\n",
    "# Set the title for the first subplot axis\n",
    "# to the string \"Longitude\"\n",
    "ax[0].set_title('Longitude')\n",
    "\n",
    "# Plot a histogram of above average latitude\n",
    "# on the second subplot axis. Set alpha to .6\n",
    "# Set label to the string \"Above\"\n",
    "ax[1].hist(abv_avg_lat, alpha=.6, label='Above')\n",
    "\n",
    "# Plot a histogram of below average latitude\n",
    "# on the second subplot axis. Set alpha to .6\n",
    "# Set label to the string \"Below\"\n",
    "ax[1].hist(blw_avg_lat, alpha=.6, label='Below')\n",
    "\n",
    "# Set the title for the second subplot axis\n",
    "# to the string \"Latitude\"\n",
    "ax[1].set_title('Latitude')\n",
    "\n",
    "# Activate the legend for both subplot axes\n",
    "ax[0].legend()\n",
    "ax[1].legend();"
   ]
  },
  {
   "cell_type": "markdown",
   "id": "durable-royalty",
   "metadata": {},
   "source": [
    "**Interpret the above visualization. How does it relate to your client's claims?**"
   ]
  },
  {
   "cell_type": "markdown",
   "id": "optimum-american",
   "metadata": {},
   "source": [
    "==SOLUTION==\n",
    "\n",
    "The above visualization shows that above average rated restaurants are centered slightly more to the east than below average rating restaurants. Both distributions appear to be largley centered in the same place when it comes to latitude (north --> south). My client's claim that above average restaurants are further east is supported by this visualization, though the difference is quite small. This visualization refutes my client's claim that north vs southern placement is a good seperator for above average and below average rated restaurants."
   ]
  },
  {
   "cell_type": "markdown",
   "id": "extra-lithuania",
   "metadata": {},
   "source": [
    "## Find the most common zipcode for above average restaurants\n",
    "\n",
    "In the cell below, loop over the restaurants in the above average dataset and count the frequency of the restaurants zipcode."
   ]
  },
  {
   "cell_type": "code",
   "execution_count": null,
   "id": "afraid-appendix",
   "metadata": {},
   "outputs": [],
   "source": [
    "# Create an empty dictionary\n",
    "# This dictionary will hold the counts\n",
    "# for each zipcode\n",
    "abv_avg_zip_cnts = # YOUR CODE HERE\n",
    "\n",
    "# Loop over the above average dataset\n",
    "# YOUR CODE HERE\n",
    "    \n",
    "    # Isolate the restaurant's zipcode \n",
    "    # YOUR CODE HERE\n",
    "    \n",
    "    # Check if the zipcode is a key in the dictionary\n",
    "    # YOUR CODE HERE\n",
    "        \n",
    "        # Add one to the zipcode's value\n",
    "        # YOUR CODE HERE\n",
    "    \n",
    "    # If the zipcode is not a key\n",
    "    # add it to the dictionary with a value of 1\n",
    "    # YOUR CODE HERE"
   ]
  },
  {
   "cell_type": "code",
   "execution_count": 93,
   "id": "handled-netherlands",
   "metadata": {},
   "outputs": [],
   "source": [
    "#__SOLUTION__\n",
    "# Create an empty dictionary\n",
    "# This dictionary will hold the counts\n",
    "# for each zipcode\n",
    "abv_avg_zip_cnts = {}\n",
    "\n",
    "# Loop over the above average dataset\n",
    "for restaurant in above_average:\n",
    "    \n",
    "    # Isolate the restaurant's zipcode \n",
    "    zipcode = restaurant['location']['zip_code']\n",
    "    \n",
    "    # Check if the zipcode is a key in the dictionary\n",
    "    if zipcode in abv_avg_zip_cnts:\n",
    "        \n",
    "        # Add one to the zipcode's value\n",
    "        abv_avg_zip_cnts[zipcode] += 1\n",
    "    \n",
    "    # If the zipcode is not a key\n",
    "    # add it to the dictionary with a value of 1\n",
    "    else:\n",
    "        abv_avg_zip_cnts[zipcode] = 1"
   ]
  },
  {
   "cell_type": "markdown",
   "id": "comfortable-clear",
   "metadata": {},
   "source": [
    "Run the next cell unchanged to test your work!\n",
    "> If the below cell runs without throwing an error, your code is likely correct!"
   ]
  },
  {
   "cell_type": "code",
   "execution_count": 88,
   "id": "subtle-outside",
   "metadata": {},
   "outputs": [],
   "source": [
    "assert type(abv_avg_zip_cnts) == dict\n",
    "assert len(abv_avg_zip_cnts) == 104 or len(abv_avg_zip_cnts) == 103\n",
    "assert '10012' in abv_avg_zip_cnts"
   ]
  },
  {
   "cell_type": "code",
   "execution_count": null,
   "id": "moderate-auckland",
   "metadata": {},
   "outputs": [],
   "source": [
    "#__SOLUTION__\n",
    "assert type(abv_avg_zip_cnts) == dict\n",
    "assert len(abv_avg_zip_cnts) == 104 or len(abv_avg_zip_cnts) == 103\n",
    "assert '10012' in abv_avg_zip_cnts"
   ]
  },
  {
   "cell_type": "markdown",
   "id": "comparative-ribbon",
   "metadata": {},
   "source": [
    "Now loop over the `abv_avg_zip_cnts` dictionary and find the zipcode with the largest count. \n",
    "\n",
    "For this question, there are multiple ways to find the solution. Comments have not been provided."
   ]
  },
  {
   "cell_type": "code",
   "execution_count": 89,
   "id": "early-vertex",
   "metadata": {},
   "outputs": [],
   "source": [
    "# Your code here"
   ]
  },
  {
   "cell_type": "code",
   "execution_count": 90,
   "id": "crude-canon",
   "metadata": {},
   "outputs": [
    {
     "name": "stdout",
     "output_type": "stream",
     "text": [
      "The most common zipcode for above average restaurants: 10014\n"
     ]
    }
   ],
   "source": [
    "#__SOLUTION__\n",
    "\n",
    "# SOLUTION 1 - Sort the dictionary\n",
    "\n",
    "### Create a list of tuples using `.items`\n",
    "items = abv_avg_zip_cnts.items()\n",
    "\n",
    "### Sort the list of tuples in descending order\n",
    "items_sorted = sorted(items, key=lambda x: x[1], reverse=True)\n",
    "\n",
    "#### Pull the zipcode from the first value \n",
    "#### to find the zipcode with the largest count\n",
    "most_common_zip_1 = items_sorted[0][0]\n",
    "\n",
    "# SOLUTION 2 - Loop over the dictionary\n",
    "\n",
    "### Create a placeholder varaible to store the answer\n",
    "most_common_zip_2 = None\n",
    "\n",
    "### Create a counter variable to store the counts\n",
    "largest_count = 0\n",
    "\n",
    "### Loop over the dictionary of zipcode counts\n",
    "for zipcode in abv_avg_zip_cnts.keys():\n",
    "    \n",
    "    # Isolate the zipcode count\n",
    "    count = abv_avg_zip_cnts[zipcode]\n",
    "    \n",
    "    # Check if the count is greater than `largest_count`\n",
    "    if count > largest_count:\n",
    "        \n",
    "        # Set most_common_zip to the zipcode\n",
    "        most_common_zip_2 = zipcode\n",
    "        \n",
    "        # Update largest count\n",
    "        largest_count = count\n",
    "        \n",
    "# Confirm both solutions produce the same results\n",
    "assert most_common_zip_1 == most_common_zip_2\n",
    "\n",
    "# Print result\n",
    "print('The most common zipcode for above average restaurants:', most_common_zip_1)"
   ]
  },
  {
   "cell_type": "markdown",
   "id": "careful-vegetarian",
   "metadata": {},
   "source": [
    "**Interpret the results. How does the most frequent zipcode relate to your client's claims?**"
   ]
  },
  {
   "cell_type": "markdown",
   "id": "auburn-division",
   "metadata": {},
   "source": [
    "==SOLUTION==\n",
    "\n",
    "This finding rejects my client's claim. The zipcode containing the most above average restaurants, given that above average is defined as having a rating >= 4.5, is 10014. It is not 10012. "
   ]
  },
  {
   "cell_type": "markdown",
   "id": "brave-venture",
   "metadata": {},
   "source": [
    "## Compile your findings into a report\n",
    "\n",
    "You have address all of your client's claims! In the cell below, describe the findings of your analysis."
   ]
  },
  {
   "cell_type": "markdown",
   "id": "effective-disclaimer",
   "metadata": {},
   "source": [
    "==SOLUTION==\n",
    "\n",
    "**This analysis finds** \n",
    "- `4` is average yelp rating in NYC.\n",
    "- Restaurants with a below average rating have a higher avergae review count than restaurants with an above average rating.\n",
    "- `$$` is the second most common price option for above average restaurants. Due to missing data, further investigation is required in order to determine the the most common price point. `$` is the most common price option for restaurants with a below average rating.\n",
    "- Restaurants with an above average rating are slightly further east than restaurants with a below average rating. There does not appear to be a difference North to South.\n",
    "- `10014` is the zipcode with the most above average rated restaurants, it is not `10012`."
   ]
  },
  {
   "cell_type": "markdown",
   "id": "neural-aurora",
   "metadata": {},
   "source": [
    "# Summary\n",
    "\n",
    "Well done! As you can see, manipulating nested data stuctures can be a challenging task. Pulling information from json objects requires a thoughtful inspection of how the data is organized, and code that allows you to avoid repetition."
   ]
  }
 ],
 "metadata": {
  "kernelspec": {
   "display_name": "Python 3",
   "language": "python",
   "name": "python3"
  },
  "language_info": {
   "codemirror_mode": {
    "name": "ipython",
    "version": 3
   },
   "file_extension": ".py",
   "mimetype": "text/x-python",
   "name": "python",
   "nbconvert_exporter": "python",
   "pygments_lexer": "ipython3",
   "version": "3.7.7"
  }
 },
 "nbformat": 4,
 "nbformat_minor": 5
}
